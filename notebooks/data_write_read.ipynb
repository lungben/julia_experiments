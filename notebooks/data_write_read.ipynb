{
 "cells": [
  {
   "cell_type": "code",
   "execution_count": 1,
   "metadata": {},
   "outputs": [],
   "source": [
    "using Pkg"
   ]
  },
  {
   "cell_type": "code",
   "execution_count": 2,
   "metadata": {},
   "outputs": [
    {
     "name": "stderr",
     "output_type": "stream",
     "text": [
      "\u001b[32m\u001b[1m   Updating\u001b[22m\u001b[39m registry at `/opt/julia/registries/General`\n"
     ]
    },
    {
     "name": "stdout",
     "output_type": "stream",
     "text": [
      "\u001b[?25l    "
     ]
    },
    {
     "name": "stderr",
     "output_type": "stream",
     "text": [
      "\u001b[32m\u001b[1m   Updating\u001b[22m\u001b[39m git-repo `https://github.com/JuliaRegistries/General.git`\n"
     ]
    },
    {
     "name": "stdout",
     "output_type": "stream",
     "text": [
      "\u001b[2K\u001b[?25h[1mFetching:\u001b[22m\u001b[39m [========================================>]  100.0 %"
     ]
    },
    {
     "name": "stderr",
     "output_type": "stream",
     "text": [
      "\u001b[32m\u001b[1m  Resolving\u001b[22m\u001b[39m package versions...\n",
      "\u001b[32m\u001b[1m   Updating\u001b[22m\u001b[39m `/opt/julia/environments/v1.4/Project.toml`\n",
      "\u001b[90m [no changes]\u001b[39m\n",
      "\u001b[32m\u001b[1m   Updating\u001b[22m\u001b[39m `/opt/julia/environments/v1.4/Manifest.toml`\n",
      "\u001b[90m [no changes]\u001b[39m\n"
     ]
    }
   ],
   "source": [
    "pkg\"add DataFrames CSV Feather SQLite JLD\""
   ]
  },
  {
   "cell_type": "markdown",
   "metadata": {},
   "source": [
    "### Download Test Data"
   ]
  },
  {
   "cell_type": "code",
   "execution_count": 3,
   "metadata": {},
   "outputs": [
    {
     "data": {
      "text/plain": [
       "\"test_data.csv\""
      ]
     },
     "execution_count": 3,
     "metadata": {},
     "output_type": "execute_result"
    }
   ],
   "source": [
    "download(\"https://nyc-tlc.s3.amazonaws.com/trip+data/green_tripdata_2019-12.csv\", \n",
    "    \"test_data.csv\")"
   ]
  },
  {
   "cell_type": "code",
   "execution_count": 4,
   "metadata": {},
   "outputs": [
    {
     "data": {
      "text/plain": [
       "39.241610527038574"
      ]
     },
     "execution_count": 4,
     "metadata": {},
     "output_type": "execute_result"
    }
   ],
   "source": [
    "filesize(\"test_data.csv\")/1024^2 # in MB"
   ]
  },
  {
   "cell_type": "markdown",
   "metadata": {},
   "source": [
    "## Import Test Data"
   ]
  },
  {
   "cell_type": "code",
   "execution_count": 5,
   "metadata": {},
   "outputs": [],
   "source": [
    "using CSV\n",
    "using DataFrames\n",
    "using Dates"
   ]
  },
  {
   "cell_type": "code",
   "execution_count": 6,
   "metadata": {},
   "outputs": [
    {
     "name": "stdout",
     "output_type": "stream",
     "text": [
      " 22.436559 seconds (13.80 M allocations: 908.744 MiB, 5.03% gc time)\n"
     ]
    },
    {
     "data": {
      "text/html": [
       "<table class=\"data-frame\"><thead><tr><th></th><th>VendorID</th><th>lpep_pickup_datetime</th><th>lpep_dropoff_datetime</th><th>store_and_fwd_flag</th><th>RatecodeID</th></tr><tr><th></th><th>Int64?</th><th>String</th><th>String</th><th>String?</th><th>Int64?</th></tr></thead><tbody><p>450,627 rows × 20 columns (omitted printing of 15 columns)</p><tr><th>1</th><td>1</td><td>2019-12-01 00:09:45</td><td>2019-12-01 00:10:59</td><td>N</td><td>1</td></tr><tr><th>2</th><td>2</td><td>2019-12-01 00:26:05</td><td>2019-12-01 00:31:30</td><td>N</td><td>1</td></tr><tr><th>3</th><td>2</td><td>2019-12-01 00:56:36</td><td>2019-12-01 00:59:38</td><td>N</td><td>1</td></tr><tr><th>4</th><td>2</td><td>2019-12-01 00:26:20</td><td>2019-12-01 00:40:19</td><td>N</td><td>1</td></tr><tr><th>5</th><td>2</td><td>2019-12-01 00:56:36</td><td>2019-12-01 00:59:56</td><td>N</td><td>1</td></tr><tr><th>6</th><td>1</td><td>2019-12-01 00:14:28</td><td>2019-12-01 00:19:39</td><td>N</td><td>1</td></tr><tr><th>7</th><td>1</td><td>2019-12-01 00:45:54</td><td>2019-12-01 00:52:46</td><td>N</td><td>1</td></tr><tr><th>8</th><td>2</td><td>2019-12-01 00:25:35</td><td>2019-12-01 01:04:08</td><td>N</td><td>1</td></tr><tr><th>9</th><td>1</td><td>2019-12-01 00:43:12</td><td>2019-12-01 00:56:44</td><td>N</td><td>1</td></tr><tr><th>10</th><td>2</td><td>2019-12-01 00:56:08</td><td>2019-12-01 01:05:11</td><td>N</td><td>1</td></tr><tr><th>11</th><td>2</td><td>2019-12-01 00:10:32</td><td>2019-12-01 00:34:48</td><td>N</td><td>1</td></tr><tr><th>12</th><td>2</td><td>2019-12-01 00:16:41</td><td>2019-12-01 00:20:42</td><td>N</td><td>1</td></tr><tr><th>13</th><td>2</td><td>2019-12-01 00:04:57</td><td>2019-12-01 00:06:22</td><td>N</td><td>1</td></tr><tr><th>14</th><td>2</td><td>2019-12-01 00:32:08</td><td>2019-12-01 00:44:06</td><td>N</td><td>1</td></tr><tr><th>15</th><td>2</td><td>2019-12-01 00:13:31</td><td>2019-12-01 00:22:38</td><td>N</td><td>1</td></tr><tr><th>16</th><td>2</td><td>2019-12-01 00:09:15</td><td>2019-12-01 00:14:28</td><td>N</td><td>1</td></tr><tr><th>17</th><td>2</td><td>2019-12-01 00:12:29</td><td>2019-12-01 00:27:39</td><td>N</td><td>1</td></tr><tr><th>18</th><td>1</td><td>2019-12-01 00:30:08</td><td>2019-12-01 00:33:24</td><td>N</td><td>1</td></tr><tr><th>19</th><td>1</td><td>2019-12-01 00:43:11</td><td>2019-12-01 00:51:47</td><td>N</td><td>1</td></tr><tr><th>20</th><td>1</td><td>2019-12-01 00:55:42</td><td>2019-12-01 00:57:50</td><td>N</td><td>1</td></tr><tr><th>21</th><td>2</td><td>2019-12-01 00:32:18</td><td>2019-12-01 00:33:01</td><td>N</td><td>5</td></tr><tr><th>22</th><td>2</td><td>2019-12-01 00:47:58</td><td>2019-12-01 00:59:03</td><td>N</td><td>1</td></tr><tr><th>23</th><td>2</td><td>2019-12-01 00:18:47</td><td>2019-12-01 00:31:28</td><td>N</td><td>1</td></tr><tr><th>24</th><td>1</td><td>2019-12-01 00:26:26</td><td>2019-12-01 00:45:41</td><td>N</td><td>1</td></tr><tr><th>25</th><td>2</td><td>2019-12-01 00:58:22</td><td>2019-12-01 01:03:44</td><td>N</td><td>1</td></tr><tr><th>26</th><td>2</td><td>2019-12-01 00:10:36</td><td>2019-12-01 00:19:25</td><td>N</td><td>1</td></tr><tr><th>27</th><td>2</td><td>2019-12-01 00:37:31</td><td>2019-12-01 01:01:51</td><td>N</td><td>1</td></tr><tr><th>28</th><td>2</td><td>2019-12-01 00:18:19</td><td>2019-12-01 00:34:26</td><td>N</td><td>1</td></tr><tr><th>29</th><td>2</td><td>2019-12-01 00:18:57</td><td>2019-12-01 00:19:00</td><td>N</td><td>5</td></tr><tr><th>30</th><td>2</td><td>2019-12-01 00:23:02</td><td>2019-12-01 00:32:27</td><td>N</td><td>1</td></tr><tr><th>&vellip;</th><td>&vellip;</td><td>&vellip;</td><td>&vellip;</td><td>&vellip;</td><td>&vellip;</td></tr></tbody></table>"
      ],
      "text/latex": [
       "\\begin{tabular}{r|cccccc}\n",
       "\t& VendorID & lpep\\_pickup\\_datetime & lpep\\_dropoff\\_datetime & store\\_and\\_fwd\\_flag & RatecodeID & \\\\\n",
       "\t\\hline\n",
       "\t& Int64? & String & String & String? & Int64? & \\\\\n",
       "\t\\hline\n",
       "\t1 & 1 & 2019-12-01 00:09:45 & 2019-12-01 00:10:59 & N & 1 & $\\dots$ \\\\\n",
       "\t2 & 2 & 2019-12-01 00:26:05 & 2019-12-01 00:31:30 & N & 1 & $\\dots$ \\\\\n",
       "\t3 & 2 & 2019-12-01 00:56:36 & 2019-12-01 00:59:38 & N & 1 & $\\dots$ \\\\\n",
       "\t4 & 2 & 2019-12-01 00:26:20 & 2019-12-01 00:40:19 & N & 1 & $\\dots$ \\\\\n",
       "\t5 & 2 & 2019-12-01 00:56:36 & 2019-12-01 00:59:56 & N & 1 & $\\dots$ \\\\\n",
       "\t6 & 1 & 2019-12-01 00:14:28 & 2019-12-01 00:19:39 & N & 1 & $\\dots$ \\\\\n",
       "\t7 & 1 & 2019-12-01 00:45:54 & 2019-12-01 00:52:46 & N & 1 & $\\dots$ \\\\\n",
       "\t8 & 2 & 2019-12-01 00:25:35 & 2019-12-01 01:04:08 & N & 1 & $\\dots$ \\\\\n",
       "\t9 & 1 & 2019-12-01 00:43:12 & 2019-12-01 00:56:44 & N & 1 & $\\dots$ \\\\\n",
       "\t10 & 2 & 2019-12-01 00:56:08 & 2019-12-01 01:05:11 & N & 1 & $\\dots$ \\\\\n",
       "\t11 & 2 & 2019-12-01 00:10:32 & 2019-12-01 00:34:48 & N & 1 & $\\dots$ \\\\\n",
       "\t12 & 2 & 2019-12-01 00:16:41 & 2019-12-01 00:20:42 & N & 1 & $\\dots$ \\\\\n",
       "\t13 & 2 & 2019-12-01 00:04:57 & 2019-12-01 00:06:22 & N & 1 & $\\dots$ \\\\\n",
       "\t14 & 2 & 2019-12-01 00:32:08 & 2019-12-01 00:44:06 & N & 1 & $\\dots$ \\\\\n",
       "\t15 & 2 & 2019-12-01 00:13:31 & 2019-12-01 00:22:38 & N & 1 & $\\dots$ \\\\\n",
       "\t16 & 2 & 2019-12-01 00:09:15 & 2019-12-01 00:14:28 & N & 1 & $\\dots$ \\\\\n",
       "\t17 & 2 & 2019-12-01 00:12:29 & 2019-12-01 00:27:39 & N & 1 & $\\dots$ \\\\\n",
       "\t18 & 1 & 2019-12-01 00:30:08 & 2019-12-01 00:33:24 & N & 1 & $\\dots$ \\\\\n",
       "\t19 & 1 & 2019-12-01 00:43:11 & 2019-12-01 00:51:47 & N & 1 & $\\dots$ \\\\\n",
       "\t20 & 1 & 2019-12-01 00:55:42 & 2019-12-01 00:57:50 & N & 1 & $\\dots$ \\\\\n",
       "\t21 & 2 & 2019-12-01 00:32:18 & 2019-12-01 00:33:01 & N & 5 & $\\dots$ \\\\\n",
       "\t22 & 2 & 2019-12-01 00:47:58 & 2019-12-01 00:59:03 & N & 1 & $\\dots$ \\\\\n",
       "\t23 & 2 & 2019-12-01 00:18:47 & 2019-12-01 00:31:28 & N & 1 & $\\dots$ \\\\\n",
       "\t24 & 1 & 2019-12-01 00:26:26 & 2019-12-01 00:45:41 & N & 1 & $\\dots$ \\\\\n",
       "\t25 & 2 & 2019-12-01 00:58:22 & 2019-12-01 01:03:44 & N & 1 & $\\dots$ \\\\\n",
       "\t26 & 2 & 2019-12-01 00:10:36 & 2019-12-01 00:19:25 & N & 1 & $\\dots$ \\\\\n",
       "\t27 & 2 & 2019-12-01 00:37:31 & 2019-12-01 01:01:51 & N & 1 & $\\dots$ \\\\\n",
       "\t28 & 2 & 2019-12-01 00:18:19 & 2019-12-01 00:34:26 & N & 1 & $\\dots$ \\\\\n",
       "\t29 & 2 & 2019-12-01 00:18:57 & 2019-12-01 00:19:00 & N & 5 & $\\dots$ \\\\\n",
       "\t30 & 2 & 2019-12-01 00:23:02 & 2019-12-01 00:32:27 & N & 1 & $\\dots$ \\\\\n",
       "\t$\\dots$ & $\\dots$ & $\\dots$ & $\\dots$ & $\\dots$ & $\\dots$ &  \\\\\n",
       "\\end{tabular}\n"
      ],
      "text/plain": [
       "450627×20 DataFrame. Omitted printing of 17 columns\n",
       "│ Row    │ VendorID │ lpep_pickup_datetime │ lpep_dropoff_datetime │\n",
       "│        │ \u001b[90mInt64?\u001b[39m   │ \u001b[90mString\u001b[39m               │ \u001b[90mString\u001b[39m                │\n",
       "├────────┼──────────┼──────────────────────┼───────────────────────┤\n",
       "│ 1      │ 1        │ 2019-12-01 00:09:45  │ 2019-12-01 00:10:59   │\n",
       "│ 2      │ 2        │ 2019-12-01 00:26:05  │ 2019-12-01 00:31:30   │\n",
       "│ 3      │ 2        │ 2019-12-01 00:56:36  │ 2019-12-01 00:59:38   │\n",
       "│ 4      │ 2        │ 2019-12-01 00:26:20  │ 2019-12-01 00:40:19   │\n",
       "│ 5      │ 2        │ 2019-12-01 00:56:36  │ 2019-12-01 00:59:56   │\n",
       "│ 6      │ 1        │ 2019-12-01 00:14:28  │ 2019-12-01 00:19:39   │\n",
       "│ 7      │ 1        │ 2019-12-01 00:45:54  │ 2019-12-01 00:52:46   │\n",
       "│ 8      │ 2        │ 2019-12-01 00:25:35  │ 2019-12-01 01:04:08   │\n",
       "│ 9      │ 1        │ 2019-12-01 00:43:12  │ 2019-12-01 00:56:44   │\n",
       "│ 10     │ 2        │ 2019-12-01 00:56:08  │ 2019-12-01 01:05:11   │\n",
       "⋮\n",
       "│ 450617 │ \u001b[90mmissing\u001b[39m  │ 2019-12-31 23:59:00  │ 2020-01-01 00:31:00   │\n",
       "│ 450618 │ \u001b[90mmissing\u001b[39m  │ 2019-12-31 23:14:00  │ 2019-12-31 23:45:00   │\n",
       "│ 450619 │ \u001b[90mmissing\u001b[39m  │ 2019-12-31 23:04:00  │ 2019-12-31 23:38:00   │\n",
       "│ 450620 │ \u001b[90mmissing\u001b[39m  │ 2019-12-31 23:11:00  │ 2019-12-31 23:27:00   │\n",
       "│ 450621 │ \u001b[90mmissing\u001b[39m  │ 2019-12-31 23:34:00  │ 2019-12-31 23:59:00   │\n",
       "│ 450622 │ \u001b[90mmissing\u001b[39m  │ 2019-12-31 23:46:00  │ 2020-01-01 00:03:00   │\n",
       "│ 450623 │ \u001b[90mmissing\u001b[39m  │ 2019-12-31 23:26:00  │ 2019-12-31 23:54:00   │\n",
       "│ 450624 │ \u001b[90mmissing\u001b[39m  │ 2019-12-31 23:02:00  │ 2019-12-31 23:16:00   │\n",
       "│ 450625 │ \u001b[90mmissing\u001b[39m  │ 2019-12-31 23:24:00  │ 2019-12-31 23:40:00   │\n",
       "│ 450626 │ \u001b[90mmissing\u001b[39m  │ 2019-12-31 23:16:00  │ 2019-12-31 23:37:00   │\n",
       "│ 450627 │ \u001b[90mmissing\u001b[39m  │ 2019-12-31 23:52:00  │ 2020-01-01 00:05:00   │"
      ]
     },
     "execution_count": 6,
     "metadata": {},
     "output_type": "execute_result"
    }
   ],
   "source": [
    "@time df = CSV.File(\"test_data.csv\") |> DataFrame"
   ]
  },
  {
   "cell_type": "code",
   "execution_count": 7,
   "metadata": {},
   "outputs": [],
   "source": [
    "df[!, :lpep_pickup_datetime] .= DateTime.(df[!, :lpep_pickup_datetime], dateformat\"yyyy-mm-dd HH:MM:SS\");\n",
    "df[!, :lpep_dropoff_datetime] .= DateTime.(df[!, :lpep_dropoff_datetime], dateformat\"yyyy-mm-dd HH:MM:SS\");"
   ]
  },
  {
   "cell_type": "code",
   "execution_count": 8,
   "metadata": {},
   "outputs": [],
   "source": [
    "select!(df, Not(:ehail_fee));"
   ]
  },
  {
   "cell_type": "markdown",
   "metadata": {},
   "source": [
    "## Timings"
   ]
  },
  {
   "cell_type": "code",
   "execution_count": 9,
   "metadata": {},
   "outputs": [],
   "source": [
    "using BenchmarkTools"
   ]
  },
  {
   "cell_type": "markdown",
   "metadata": {},
   "source": [
    "### CSV"
   ]
  },
  {
   "cell_type": "code",
   "execution_count": 10,
   "metadata": {},
   "outputs": [
    {
     "data": {
      "text/plain": [
       "\"test_out.csv\""
      ]
     },
     "execution_count": 10,
     "metadata": {},
     "output_type": "execute_result"
    }
   ],
   "source": [
    "outfile = \"test_out.csv\""
   ]
  },
  {
   "cell_type": "code",
   "execution_count": 11,
   "metadata": {},
   "outputs": [
    {
     "name": "stdout",
     "output_type": "stream",
     "text": [
      "  6.028 s (48926272 allocations: 1.38 GiB)\n"
     ]
    },
    {
     "data": {
      "text/plain": [
       "\"test_out.csv\""
      ]
     },
     "execution_count": 11,
     "metadata": {},
     "output_type": "execute_result"
    }
   ],
   "source": [
    "@btime CSV.write(outfile, df)"
   ]
  },
  {
   "cell_type": "code",
   "execution_count": 12,
   "metadata": {},
   "outputs": [
    {
     "name": "stdout",
     "output_type": "stream",
     "text": [
      "  301.417 ms (451170 allocations: 218.88 MiB)\n"
     ]
    }
   ],
   "source": [
    "@btime dfx = CSV.File(outfile) |> DataFrame;"
   ]
  },
  {
   "cell_type": "code",
   "execution_count": 13,
   "metadata": {},
   "outputs": [
    {
     "data": {
      "text/plain": [
       "43.16948127746582"
      ]
     },
     "execution_count": 13,
     "metadata": {},
     "output_type": "execute_result"
    }
   ],
   "source": [
    "filesize(outfile)/1024^2 # in MB "
   ]
  },
  {
   "cell_type": "code",
   "execution_count": 14,
   "metadata": {},
   "outputs": [
    {
     "data": {
      "text/plain": [
       "Process(`\u001b[4mgzip\u001b[24m \u001b[4m/home/jovyan/julia_tutorial/notebooks/test_out.csv\u001b[24m`, ProcessExited(0))"
      ]
     },
     "execution_count": 14,
     "metadata": {},
     "output_type": "execute_result"
    }
   ],
   "source": [
    "run(`gzip $(pwd())/$outfile`)"
   ]
  },
  {
   "cell_type": "code",
   "execution_count": 15,
   "metadata": {},
   "outputs": [
    {
     "data": {
      "text/plain": [
       "7.610500335693359"
      ]
     },
     "execution_count": 15,
     "metadata": {},
     "output_type": "execute_result"
    }
   ],
   "source": [
    "filesize(\"$outfile.gz\")/1024^2 # in MB "
   ]
  },
  {
   "cell_type": "code",
   "execution_count": 17,
   "metadata": {},
   "outputs": [],
   "source": [
    "rm(\"$outfile.gz\")"
   ]
  },
  {
   "cell_type": "markdown",
   "metadata": {},
   "source": [
    "### JDF"
   ]
  },
  {
   "cell_type": "code",
   "execution_count": 54,
   "metadata": {},
   "outputs": [],
   "source": [
    "using JDF"
   ]
  },
  {
   "cell_type": "code",
   "execution_count": 55,
   "metadata": {},
   "outputs": [
    {
     "data": {
      "text/plain": [
       "\"test_out.jdf\""
      ]
     },
     "execution_count": 55,
     "metadata": {},
     "output_type": "execute_result"
    }
   ],
   "source": [
    "outfile = \"test_out.jdf\""
   ]
  },
  {
   "cell_type": "code",
   "execution_count": 56,
   "metadata": {},
   "outputs": [
    {
     "name": "stdout",
     "output_type": "stream",
     "text": [
      "  133.904 ms (1114 allocations: 106.15 MiB)\n"
     ]
    },
    {
     "data": {
      "text/plain": [
       "JDFFile{String}(\"test_out.jdf\")"
      ]
     },
     "execution_count": 56,
     "metadata": {},
     "output_type": "execute_result"
    }
   ],
   "source": [
    "@btime savejdf(outfile, df)"
   ]
  },
  {
   "cell_type": "code",
   "execution_count": 57,
   "metadata": {},
   "outputs": [
    {
     "name": "stdout",
     "output_type": "stream",
     "text": [
      "  81.089 ms (361171 allocations: 137.64 MiB)\n"
     ]
    }
   ],
   "source": [
    "@btime dfx = loadjdf(outfile);"
   ]
  },
  {
   "cell_type": "code",
   "execution_count": 58,
   "metadata": {},
   "outputs": [
    {
     "data": {
      "text/plain": [
       "dirsize (generic function with 1 method)"
      ]
     },
     "execution_count": 58,
     "metadata": {},
     "output_type": "execute_result"
    }
   ],
   "source": [
    "function dirsize(outfile)\n",
    "    size = 0.0\n",
    "    for (root, dir, file) in walkdir(outfile)\n",
    "        size += sum(filesize.(outfile, file))\n",
    "    end\n",
    "    size / 1024^2\n",
    "end"
   ]
  },
  {
   "cell_type": "code",
   "execution_count": 59,
   "metadata": {},
   "outputs": [
    {
     "data": {
      "text/plain": [
       "15.120265007019043"
      ]
     },
     "execution_count": 59,
     "metadata": {},
     "output_type": "execute_result"
    }
   ],
   "source": [
    "dirsize(outfile)"
   ]
  },
  {
   "cell_type": "code",
   "execution_count": 60,
   "metadata": {},
   "outputs": [
    {
     "data": {
      "text/plain": [
       "Process(`\u001b[4mgzip\u001b[24m \u001b[4m-r\u001b[24m \u001b[4m/home/jovyan/julia_tutorial/notebooks/test_out.jdf\u001b[24m`, ProcessExited(0))"
      ]
     },
     "execution_count": 60,
     "metadata": {},
     "output_type": "execute_result"
    }
   ],
   "source": [
    "run(`gzip -r $(pwd())/$outfile`)"
   ]
  },
  {
   "cell_type": "code",
   "execution_count": 61,
   "metadata": {},
   "outputs": [
    {
     "data": {
      "text/plain": [
       "10.351659774780273"
      ]
     },
     "execution_count": 61,
     "metadata": {},
     "output_type": "execute_result"
    }
   ],
   "source": [
    "dirsize(outfile)"
   ]
  },
  {
   "cell_type": "code",
   "execution_count": 62,
   "metadata": {},
   "outputs": [],
   "source": [
    "rm(outfile, recursive=true)"
   ]
  },
  {
   "cell_type": "markdown",
   "metadata": {},
   "source": [
    "### SQLite"
   ]
  },
  {
   "cell_type": "code",
   "execution_count": 45,
   "metadata": {},
   "outputs": [],
   "source": [
    "using SQLite"
   ]
  },
  {
   "cell_type": "code",
   "execution_count": 46,
   "metadata": {},
   "outputs": [
    {
     "data": {
      "text/plain": [
       "\"test_out.db\""
      ]
     },
     "execution_count": 46,
     "metadata": {},
     "output_type": "execute_result"
    }
   ],
   "source": [
    "outfile = \"test_out.db\""
   ]
  },
  {
   "cell_type": "code",
   "execution_count": 47,
   "metadata": {},
   "outputs": [
    {
     "data": {
      "text/plain": [
       "SQLite.DB(\"test_out.db\")"
      ]
     },
     "execution_count": 47,
     "metadata": {},
     "output_type": "execute_result"
    }
   ],
   "source": [
    "db = SQLite.DB(outfile)"
   ]
  },
  {
   "cell_type": "code",
   "execution_count": 48,
   "metadata": {},
   "outputs": [
    {
     "name": "stdout",
     "output_type": "stream",
     "text": [
      " 24.021676 seconds (56.59 M allocations: 2.394 GiB, 2.80% gc time)\n"
     ]
    },
    {
     "data": {
      "text/plain": [
       "\"taxi\""
      ]
     },
     "execution_count": 48,
     "metadata": {},
     "output_type": "execute_result"
    }
   ],
   "source": [
    "@time SQLite.load!(df, db, \"taxi\")"
   ]
  },
  {
   "cell_type": "code",
   "execution_count": 49,
   "metadata": {},
   "outputs": [
    {
     "name": "stdout",
     "output_type": "stream",
     "text": [
      "  37.077 s (60010060 allocations: 2.71 GiB)\n"
     ]
    },
    {
     "data": {
      "text/html": [
       "<table class=\"data-frame\"><thead><tr><th></th><th>VendorID</th><th>lpep_pickup_datetime</th><th>lpep_dropoff_datetime</th><th>store_and_fwd_flag</th><th>RatecodeID</th></tr><tr><th></th><th>Int64?</th><th>DateTime</th><th>DateTime</th><th>String?</th><th>Int64?</th></tr></thead><tbody><p>450,627 rows × 19 columns (omitted printing of 14 columns)</p><tr><th>1</th><td>1</td><td>2019-12-01T00:09:45</td><td>2019-12-01T00:10:59</td><td>N</td><td>1</td></tr><tr><th>2</th><td>2</td><td>2019-12-01T00:26:05</td><td>2019-12-01T00:31:30</td><td>N</td><td>1</td></tr><tr><th>3</th><td>2</td><td>2019-12-01T00:56:36</td><td>2019-12-01T00:59:38</td><td>N</td><td>1</td></tr><tr><th>4</th><td>2</td><td>2019-12-01T00:26:20</td><td>2019-12-01T00:40:19</td><td>N</td><td>1</td></tr><tr><th>5</th><td>2</td><td>2019-12-01T00:56:36</td><td>2019-12-01T00:59:56</td><td>N</td><td>1</td></tr><tr><th>6</th><td>1</td><td>2019-12-01T00:14:28</td><td>2019-12-01T00:19:39</td><td>N</td><td>1</td></tr><tr><th>7</th><td>1</td><td>2019-12-01T00:45:54</td><td>2019-12-01T00:52:46</td><td>N</td><td>1</td></tr><tr><th>8</th><td>2</td><td>2019-12-01T00:25:35</td><td>2019-12-01T01:04:08</td><td>N</td><td>1</td></tr><tr><th>9</th><td>1</td><td>2019-12-01T00:43:12</td><td>2019-12-01T00:56:44</td><td>N</td><td>1</td></tr><tr><th>10</th><td>2</td><td>2019-12-01T00:56:08</td><td>2019-12-01T01:05:11</td><td>N</td><td>1</td></tr><tr><th>11</th><td>2</td><td>2019-12-01T00:10:32</td><td>2019-12-01T00:34:48</td><td>N</td><td>1</td></tr><tr><th>12</th><td>2</td><td>2019-12-01T00:16:41</td><td>2019-12-01T00:20:42</td><td>N</td><td>1</td></tr><tr><th>13</th><td>2</td><td>2019-12-01T00:04:57</td><td>2019-12-01T00:06:22</td><td>N</td><td>1</td></tr><tr><th>14</th><td>2</td><td>2019-12-01T00:32:08</td><td>2019-12-01T00:44:06</td><td>N</td><td>1</td></tr><tr><th>15</th><td>2</td><td>2019-12-01T00:13:31</td><td>2019-12-01T00:22:38</td><td>N</td><td>1</td></tr><tr><th>16</th><td>2</td><td>2019-12-01T00:09:15</td><td>2019-12-01T00:14:28</td><td>N</td><td>1</td></tr><tr><th>17</th><td>2</td><td>2019-12-01T00:12:29</td><td>2019-12-01T00:27:39</td><td>N</td><td>1</td></tr><tr><th>18</th><td>1</td><td>2019-12-01T00:30:08</td><td>2019-12-01T00:33:24</td><td>N</td><td>1</td></tr><tr><th>19</th><td>1</td><td>2019-12-01T00:43:11</td><td>2019-12-01T00:51:47</td><td>N</td><td>1</td></tr><tr><th>20</th><td>1</td><td>2019-12-01T00:55:42</td><td>2019-12-01T00:57:50</td><td>N</td><td>1</td></tr><tr><th>21</th><td>2</td><td>2019-12-01T00:32:18</td><td>2019-12-01T00:33:01</td><td>N</td><td>5</td></tr><tr><th>22</th><td>2</td><td>2019-12-01T00:47:58</td><td>2019-12-01T00:59:03</td><td>N</td><td>1</td></tr><tr><th>23</th><td>2</td><td>2019-12-01T00:18:47</td><td>2019-12-01T00:31:28</td><td>N</td><td>1</td></tr><tr><th>24</th><td>1</td><td>2019-12-01T00:26:26</td><td>2019-12-01T00:45:41</td><td>N</td><td>1</td></tr><tr><th>25</th><td>2</td><td>2019-12-01T00:58:22</td><td>2019-12-01T01:03:44</td><td>N</td><td>1</td></tr><tr><th>26</th><td>2</td><td>2019-12-01T00:10:36</td><td>2019-12-01T00:19:25</td><td>N</td><td>1</td></tr><tr><th>27</th><td>2</td><td>2019-12-01T00:37:31</td><td>2019-12-01T01:01:51</td><td>N</td><td>1</td></tr><tr><th>28</th><td>2</td><td>2019-12-01T00:18:19</td><td>2019-12-01T00:34:26</td><td>N</td><td>1</td></tr><tr><th>29</th><td>2</td><td>2019-12-01T00:18:57</td><td>2019-12-01T00:19:00</td><td>N</td><td>5</td></tr><tr><th>30</th><td>2</td><td>2019-12-01T00:23:02</td><td>2019-12-01T00:32:27</td><td>N</td><td>1</td></tr><tr><th>&vellip;</th><td>&vellip;</td><td>&vellip;</td><td>&vellip;</td><td>&vellip;</td><td>&vellip;</td></tr></tbody></table>"
      ],
      "text/latex": [
       "\\begin{tabular}{r|cccccc}\n",
       "\t& VendorID & lpep\\_pickup\\_datetime & lpep\\_dropoff\\_datetime & store\\_and\\_fwd\\_flag & RatecodeID & \\\\\n",
       "\t\\hline\n",
       "\t& Int64? & DateTime & DateTime & String? & Int64? & \\\\\n",
       "\t\\hline\n",
       "\t1 & 1 & 2019-12-01T00:09:45 & 2019-12-01T00:10:59 & N & 1 & $\\dots$ \\\\\n",
       "\t2 & 2 & 2019-12-01T00:26:05 & 2019-12-01T00:31:30 & N & 1 & $\\dots$ \\\\\n",
       "\t3 & 2 & 2019-12-01T00:56:36 & 2019-12-01T00:59:38 & N & 1 & $\\dots$ \\\\\n",
       "\t4 & 2 & 2019-12-01T00:26:20 & 2019-12-01T00:40:19 & N & 1 & $\\dots$ \\\\\n",
       "\t5 & 2 & 2019-12-01T00:56:36 & 2019-12-01T00:59:56 & N & 1 & $\\dots$ \\\\\n",
       "\t6 & 1 & 2019-12-01T00:14:28 & 2019-12-01T00:19:39 & N & 1 & $\\dots$ \\\\\n",
       "\t7 & 1 & 2019-12-01T00:45:54 & 2019-12-01T00:52:46 & N & 1 & $\\dots$ \\\\\n",
       "\t8 & 2 & 2019-12-01T00:25:35 & 2019-12-01T01:04:08 & N & 1 & $\\dots$ \\\\\n",
       "\t9 & 1 & 2019-12-01T00:43:12 & 2019-12-01T00:56:44 & N & 1 & $\\dots$ \\\\\n",
       "\t10 & 2 & 2019-12-01T00:56:08 & 2019-12-01T01:05:11 & N & 1 & $\\dots$ \\\\\n",
       "\t11 & 2 & 2019-12-01T00:10:32 & 2019-12-01T00:34:48 & N & 1 & $\\dots$ \\\\\n",
       "\t12 & 2 & 2019-12-01T00:16:41 & 2019-12-01T00:20:42 & N & 1 & $\\dots$ \\\\\n",
       "\t13 & 2 & 2019-12-01T00:04:57 & 2019-12-01T00:06:22 & N & 1 & $\\dots$ \\\\\n",
       "\t14 & 2 & 2019-12-01T00:32:08 & 2019-12-01T00:44:06 & N & 1 & $\\dots$ \\\\\n",
       "\t15 & 2 & 2019-12-01T00:13:31 & 2019-12-01T00:22:38 & N & 1 & $\\dots$ \\\\\n",
       "\t16 & 2 & 2019-12-01T00:09:15 & 2019-12-01T00:14:28 & N & 1 & $\\dots$ \\\\\n",
       "\t17 & 2 & 2019-12-01T00:12:29 & 2019-12-01T00:27:39 & N & 1 & $\\dots$ \\\\\n",
       "\t18 & 1 & 2019-12-01T00:30:08 & 2019-12-01T00:33:24 & N & 1 & $\\dots$ \\\\\n",
       "\t19 & 1 & 2019-12-01T00:43:11 & 2019-12-01T00:51:47 & N & 1 & $\\dots$ \\\\\n",
       "\t20 & 1 & 2019-12-01T00:55:42 & 2019-12-01T00:57:50 & N & 1 & $\\dots$ \\\\\n",
       "\t21 & 2 & 2019-12-01T00:32:18 & 2019-12-01T00:33:01 & N & 5 & $\\dots$ \\\\\n",
       "\t22 & 2 & 2019-12-01T00:47:58 & 2019-12-01T00:59:03 & N & 1 & $\\dots$ \\\\\n",
       "\t23 & 2 & 2019-12-01T00:18:47 & 2019-12-01T00:31:28 & N & 1 & $\\dots$ \\\\\n",
       "\t24 & 1 & 2019-12-01T00:26:26 & 2019-12-01T00:45:41 & N & 1 & $\\dots$ \\\\\n",
       "\t25 & 2 & 2019-12-01T00:58:22 & 2019-12-01T01:03:44 & N & 1 & $\\dots$ \\\\\n",
       "\t26 & 2 & 2019-12-01T00:10:36 & 2019-12-01T00:19:25 & N & 1 & $\\dots$ \\\\\n",
       "\t27 & 2 & 2019-12-01T00:37:31 & 2019-12-01T01:01:51 & N & 1 & $\\dots$ \\\\\n",
       "\t28 & 2 & 2019-12-01T00:18:19 & 2019-12-01T00:34:26 & N & 1 & $\\dots$ \\\\\n",
       "\t29 & 2 & 2019-12-01T00:18:57 & 2019-12-01T00:19:00 & N & 5 & $\\dots$ \\\\\n",
       "\t30 & 2 & 2019-12-01T00:23:02 & 2019-12-01T00:32:27 & N & 1 & $\\dots$ \\\\\n",
       "\t$\\dots$ & $\\dots$ & $\\dots$ & $\\dots$ & $\\dots$ & $\\dots$ &  \\\\\n",
       "\\end{tabular}\n"
      ],
      "text/plain": [
       "450627×19 DataFrame. Omitted printing of 16 columns\n",
       "│ Row    │ VendorID │ lpep_pickup_datetime │ lpep_dropoff_datetime │\n",
       "│        │ \u001b[90mInt64?\u001b[39m   │ \u001b[90mDateTime\u001b[39m             │ \u001b[90mDateTime\u001b[39m              │\n",
       "├────────┼──────────┼──────────────────────┼───────────────────────┤\n",
       "│ 1      │ 1        │ 2019-12-01T00:09:45  │ 2019-12-01T00:10:59   │\n",
       "│ 2      │ 2        │ 2019-12-01T00:26:05  │ 2019-12-01T00:31:30   │\n",
       "│ 3      │ 2        │ 2019-12-01T00:56:36  │ 2019-12-01T00:59:38   │\n",
       "│ 4      │ 2        │ 2019-12-01T00:26:20  │ 2019-12-01T00:40:19   │\n",
       "│ 5      │ 2        │ 2019-12-01T00:56:36  │ 2019-12-01T00:59:56   │\n",
       "│ 6      │ 1        │ 2019-12-01T00:14:28  │ 2019-12-01T00:19:39   │\n",
       "│ 7      │ 1        │ 2019-12-01T00:45:54  │ 2019-12-01T00:52:46   │\n",
       "│ 8      │ 2        │ 2019-12-01T00:25:35  │ 2019-12-01T01:04:08   │\n",
       "│ 9      │ 1        │ 2019-12-01T00:43:12  │ 2019-12-01T00:56:44   │\n",
       "│ 10     │ 2        │ 2019-12-01T00:56:08  │ 2019-12-01T01:05:11   │\n",
       "⋮\n",
       "│ 450617 │ \u001b[90mmissing\u001b[39m  │ 2019-12-31T23:59:00  │ 2020-01-01T00:31:00   │\n",
       "│ 450618 │ \u001b[90mmissing\u001b[39m  │ 2019-12-31T23:14:00  │ 2019-12-31T23:45:00   │\n",
       "│ 450619 │ \u001b[90mmissing\u001b[39m  │ 2019-12-31T23:04:00  │ 2019-12-31T23:38:00   │\n",
       "│ 450620 │ \u001b[90mmissing\u001b[39m  │ 2019-12-31T23:11:00  │ 2019-12-31T23:27:00   │\n",
       "│ 450621 │ \u001b[90mmissing\u001b[39m  │ 2019-12-31T23:34:00  │ 2019-12-31T23:59:00   │\n",
       "│ 450622 │ \u001b[90mmissing\u001b[39m  │ 2019-12-31T23:46:00  │ 2020-01-01T00:03:00   │\n",
       "│ 450623 │ \u001b[90mmissing\u001b[39m  │ 2019-12-31T23:26:00  │ 2019-12-31T23:54:00   │\n",
       "│ 450624 │ \u001b[90mmissing\u001b[39m  │ 2019-12-31T23:02:00  │ 2019-12-31T23:16:00   │\n",
       "│ 450625 │ \u001b[90mmissing\u001b[39m  │ 2019-12-31T23:24:00  │ 2019-12-31T23:40:00   │\n",
       "│ 450626 │ \u001b[90mmissing\u001b[39m  │ 2019-12-31T23:16:00  │ 2019-12-31T23:37:00   │\n",
       "│ 450627 │ \u001b[90mmissing\u001b[39m  │ 2019-12-31T23:52:00  │ 2020-01-01T00:05:00   │"
      ]
     },
     "execution_count": 49,
     "metadata": {},
     "output_type": "execute_result"
    }
   ],
   "source": [
    "@btime dfx = DBInterface.execute(db, \"select * from taxi\") |> DataFrame"
   ]
  },
  {
   "cell_type": "code",
   "execution_count": 50,
   "metadata": {},
   "outputs": [
    {
     "data": {
      "text/plain": [
       "196.10546875"
      ]
     },
     "execution_count": 50,
     "metadata": {},
     "output_type": "execute_result"
    }
   ],
   "source": [
    "filesize(outfile) / 1024^2"
   ]
  },
  {
   "cell_type": "code",
   "execution_count": 51,
   "metadata": {},
   "outputs": [
    {
     "data": {
      "text/plain": [
       "Process(`\u001b[4mgzip\u001b[24m \u001b[4m/home/jovyan/julia_tutorial/notebooks/test_out.db\u001b[24m`, ProcessExited(0))"
      ]
     },
     "execution_count": 51,
     "metadata": {},
     "output_type": "execute_result"
    }
   ],
   "source": [
    "run(`gzip $(pwd())/$outfile`)"
   ]
  },
  {
   "cell_type": "code",
   "execution_count": 52,
   "metadata": {},
   "outputs": [
    {
     "data": {
      "text/plain": [
       "14.859847068786621"
      ]
     },
     "execution_count": 52,
     "metadata": {},
     "output_type": "execute_result"
    }
   ],
   "source": [
    "filesize(\"$outfile.gz\")/1024^2 # in MB "
   ]
  },
  {
   "cell_type": "code",
   "execution_count": 53,
   "metadata": {},
   "outputs": [],
   "source": [
    "rm(\"$outfile.gz\")"
   ]
  },
  {
   "cell_type": "markdown",
   "metadata": {},
   "source": [
    "### Feather"
   ]
  },
  {
   "cell_type": "code",
   "execution_count": 36,
   "metadata": {},
   "outputs": [],
   "source": [
    "using Feather"
   ]
  },
  {
   "cell_type": "code",
   "execution_count": 37,
   "metadata": {},
   "outputs": [
    {
     "data": {
      "text/plain": [
       "\"test_out.feather\""
      ]
     },
     "execution_count": 37,
     "metadata": {},
     "output_type": "execute_result"
    }
   ],
   "source": [
    "outfile = \"test_out.feather\""
   ]
  },
  {
   "cell_type": "code",
   "execution_count": 38,
   "metadata": {},
   "outputs": [
    {
     "name": "stdout",
     "output_type": "stream",
     "text": [
      "  791.507 ms (6987 allocations: 163.36 MiB)\n"
     ]
    },
    {
     "data": {
      "text/plain": [
       "\"test_out.feather\""
      ]
     },
     "execution_count": 38,
     "metadata": {},
     "output_type": "execute_result"
    }
   ],
   "source": [
    "@btime Feather.write(outfile, df)"
   ]
  },
  {
   "cell_type": "code",
   "execution_count": 39,
   "metadata": {},
   "outputs": [
    {
     "data": {
      "text/plain": [
       "64.37792205810547"
      ]
     },
     "execution_count": 39,
     "metadata": {},
     "output_type": "execute_result"
    }
   ],
   "source": [
    "filesize(outfile) / 1024^2"
   ]
  },
  {
   "cell_type": "code",
   "execution_count": 40,
   "metadata": {},
   "outputs": [
    {
     "name": "stdout",
     "output_type": "stream",
     "text": [
      "  1.794 ms (4994 allocations: 178.09 KiB)\n"
     ]
    },
    {
     "data": {
      "text/html": [
       "<table class=\"data-frame\"><thead><tr><th></th><th>VendorID</th><th>lpep_pickup_datetime</th><th>lpep_dropoff_datetime</th><th>store_and_fwd_flag</th><th>RatecodeID</th></tr><tr><th></th><th>Int64?</th><th>Arrow.T…</th><th>Arrow.T…</th><th>String?</th><th>Int64?</th></tr></thead><tbody><p>450,627 rows × 19 columns (omitted printing of 14 columns)</p><tr><th>1</th><td>1</td><td>2019-12-01T00:09:45</td><td>2019-12-01T00:10:59</td><td>N</td><td>1</td></tr><tr><th>2</th><td>2</td><td>2019-12-01T00:26:05</td><td>2019-12-01T00:31:30</td><td>N</td><td>1</td></tr><tr><th>3</th><td>2</td><td>2019-12-01T00:56:36</td><td>2019-12-01T00:59:38</td><td>N</td><td>1</td></tr><tr><th>4</th><td>2</td><td>2019-12-01T00:26:20</td><td>2019-12-01T00:40:19</td><td>N</td><td>1</td></tr><tr><th>5</th><td>2</td><td>2019-12-01T00:56:36</td><td>2019-12-01T00:59:56</td><td>N</td><td>1</td></tr><tr><th>6</th><td>1</td><td>2019-12-01T00:14:28</td><td>2019-12-01T00:19:39</td><td>N</td><td>1</td></tr><tr><th>7</th><td>1</td><td>2019-12-01T00:45:54</td><td>2019-12-01T00:52:46</td><td>N</td><td>1</td></tr><tr><th>8</th><td>2</td><td>2019-12-01T00:25:35</td><td>2019-12-01T01:04:08</td><td>N</td><td>1</td></tr><tr><th>9</th><td>1</td><td>2019-12-01T00:43:12</td><td>2019-12-01T00:56:44</td><td>N</td><td>1</td></tr><tr><th>10</th><td>2</td><td>2019-12-01T00:56:08</td><td>2019-12-01T01:05:11</td><td>N</td><td>1</td></tr><tr><th>11</th><td>2</td><td>2019-12-01T00:10:32</td><td>2019-12-01T00:34:48</td><td>N</td><td>1</td></tr><tr><th>12</th><td>2</td><td>2019-12-01T00:16:41</td><td>2019-12-01T00:20:42</td><td>N</td><td>1</td></tr><tr><th>13</th><td>2</td><td>2019-12-01T00:04:57</td><td>2019-12-01T00:06:22</td><td>N</td><td>1</td></tr><tr><th>14</th><td>2</td><td>2019-12-01T00:32:08</td><td>2019-12-01T00:44:06</td><td>N</td><td>1</td></tr><tr><th>15</th><td>2</td><td>2019-12-01T00:13:31</td><td>2019-12-01T00:22:38</td><td>N</td><td>1</td></tr><tr><th>16</th><td>2</td><td>2019-12-01T00:09:15</td><td>2019-12-01T00:14:28</td><td>N</td><td>1</td></tr><tr><th>17</th><td>2</td><td>2019-12-01T00:12:29</td><td>2019-12-01T00:27:39</td><td>N</td><td>1</td></tr><tr><th>18</th><td>1</td><td>2019-12-01T00:30:08</td><td>2019-12-01T00:33:24</td><td>N</td><td>1</td></tr><tr><th>19</th><td>1</td><td>2019-12-01T00:43:11</td><td>2019-12-01T00:51:47</td><td>N</td><td>1</td></tr><tr><th>20</th><td>1</td><td>2019-12-01T00:55:42</td><td>2019-12-01T00:57:50</td><td>N</td><td>1</td></tr><tr><th>21</th><td>2</td><td>2019-12-01T00:32:18</td><td>2019-12-01T00:33:01</td><td>N</td><td>5</td></tr><tr><th>22</th><td>2</td><td>2019-12-01T00:47:58</td><td>2019-12-01T00:59:03</td><td>N</td><td>1</td></tr><tr><th>23</th><td>2</td><td>2019-12-01T00:18:47</td><td>2019-12-01T00:31:28</td><td>N</td><td>1</td></tr><tr><th>24</th><td>1</td><td>2019-12-01T00:26:26</td><td>2019-12-01T00:45:41</td><td>N</td><td>1</td></tr><tr><th>25</th><td>2</td><td>2019-12-01T00:58:22</td><td>2019-12-01T01:03:44</td><td>N</td><td>1</td></tr><tr><th>26</th><td>2</td><td>2019-12-01T00:10:36</td><td>2019-12-01T00:19:25</td><td>N</td><td>1</td></tr><tr><th>27</th><td>2</td><td>2019-12-01T00:37:31</td><td>2019-12-01T01:01:51</td><td>N</td><td>1</td></tr><tr><th>28</th><td>2</td><td>2019-12-01T00:18:19</td><td>2019-12-01T00:34:26</td><td>N</td><td>1</td></tr><tr><th>29</th><td>2</td><td>2019-12-01T00:18:57</td><td>2019-12-01T00:19:00</td><td>N</td><td>5</td></tr><tr><th>30</th><td>2</td><td>2019-12-01T00:23:02</td><td>2019-12-01T00:32:27</td><td>N</td><td>1</td></tr><tr><th>&vellip;</th><td>&vellip;</td><td>&vellip;</td><td>&vellip;</td><td>&vellip;</td><td>&vellip;</td></tr></tbody></table>"
      ],
      "text/latex": [
       "\\begin{tabular}{r|cccccc}\n",
       "\t& VendorID & lpep\\_pickup\\_datetime & lpep\\_dropoff\\_datetime & store\\_and\\_fwd\\_flag & RatecodeID & \\\\\n",
       "\t\\hline\n",
       "\t& Int64? & Arrow.T… & Arrow.T… & String? & Int64? & \\\\\n",
       "\t\\hline\n",
       "\t1 & 1 & 2019-12-01T00:09:45 & 2019-12-01T00:10:59 & N & 1 & $\\dots$ \\\\\n",
       "\t2 & 2 & 2019-12-01T00:26:05 & 2019-12-01T00:31:30 & N & 1 & $\\dots$ \\\\\n",
       "\t3 & 2 & 2019-12-01T00:56:36 & 2019-12-01T00:59:38 & N & 1 & $\\dots$ \\\\\n",
       "\t4 & 2 & 2019-12-01T00:26:20 & 2019-12-01T00:40:19 & N & 1 & $\\dots$ \\\\\n",
       "\t5 & 2 & 2019-12-01T00:56:36 & 2019-12-01T00:59:56 & N & 1 & $\\dots$ \\\\\n",
       "\t6 & 1 & 2019-12-01T00:14:28 & 2019-12-01T00:19:39 & N & 1 & $\\dots$ \\\\\n",
       "\t7 & 1 & 2019-12-01T00:45:54 & 2019-12-01T00:52:46 & N & 1 & $\\dots$ \\\\\n",
       "\t8 & 2 & 2019-12-01T00:25:35 & 2019-12-01T01:04:08 & N & 1 & $\\dots$ \\\\\n",
       "\t9 & 1 & 2019-12-01T00:43:12 & 2019-12-01T00:56:44 & N & 1 & $\\dots$ \\\\\n",
       "\t10 & 2 & 2019-12-01T00:56:08 & 2019-12-01T01:05:11 & N & 1 & $\\dots$ \\\\\n",
       "\t11 & 2 & 2019-12-01T00:10:32 & 2019-12-01T00:34:48 & N & 1 & $\\dots$ \\\\\n",
       "\t12 & 2 & 2019-12-01T00:16:41 & 2019-12-01T00:20:42 & N & 1 & $\\dots$ \\\\\n",
       "\t13 & 2 & 2019-12-01T00:04:57 & 2019-12-01T00:06:22 & N & 1 & $\\dots$ \\\\\n",
       "\t14 & 2 & 2019-12-01T00:32:08 & 2019-12-01T00:44:06 & N & 1 & $\\dots$ \\\\\n",
       "\t15 & 2 & 2019-12-01T00:13:31 & 2019-12-01T00:22:38 & N & 1 & $\\dots$ \\\\\n",
       "\t16 & 2 & 2019-12-01T00:09:15 & 2019-12-01T00:14:28 & N & 1 & $\\dots$ \\\\\n",
       "\t17 & 2 & 2019-12-01T00:12:29 & 2019-12-01T00:27:39 & N & 1 & $\\dots$ \\\\\n",
       "\t18 & 1 & 2019-12-01T00:30:08 & 2019-12-01T00:33:24 & N & 1 & $\\dots$ \\\\\n",
       "\t19 & 1 & 2019-12-01T00:43:11 & 2019-12-01T00:51:47 & N & 1 & $\\dots$ \\\\\n",
       "\t20 & 1 & 2019-12-01T00:55:42 & 2019-12-01T00:57:50 & N & 1 & $\\dots$ \\\\\n",
       "\t21 & 2 & 2019-12-01T00:32:18 & 2019-12-01T00:33:01 & N & 5 & $\\dots$ \\\\\n",
       "\t22 & 2 & 2019-12-01T00:47:58 & 2019-12-01T00:59:03 & N & 1 & $\\dots$ \\\\\n",
       "\t23 & 2 & 2019-12-01T00:18:47 & 2019-12-01T00:31:28 & N & 1 & $\\dots$ \\\\\n",
       "\t24 & 1 & 2019-12-01T00:26:26 & 2019-12-01T00:45:41 & N & 1 & $\\dots$ \\\\\n",
       "\t25 & 2 & 2019-12-01T00:58:22 & 2019-12-01T01:03:44 & N & 1 & $\\dots$ \\\\\n",
       "\t26 & 2 & 2019-12-01T00:10:36 & 2019-12-01T00:19:25 & N & 1 & $\\dots$ \\\\\n",
       "\t27 & 2 & 2019-12-01T00:37:31 & 2019-12-01T01:01:51 & N & 1 & $\\dots$ \\\\\n",
       "\t28 & 2 & 2019-12-01T00:18:19 & 2019-12-01T00:34:26 & N & 1 & $\\dots$ \\\\\n",
       "\t29 & 2 & 2019-12-01T00:18:57 & 2019-12-01T00:19:00 & N & 5 & $\\dots$ \\\\\n",
       "\t30 & 2 & 2019-12-01T00:23:02 & 2019-12-01T00:32:27 & N & 1 & $\\dots$ \\\\\n",
       "\t$\\dots$ & $\\dots$ & $\\dots$ & $\\dots$ & $\\dots$ & $\\dots$ &  \\\\\n",
       "\\end{tabular}\n"
      ],
      "text/plain": [
       "450627×19 DataFrame. Omitted printing of 16 columns\n",
       "│ Row    │ VendorID │ lpep_pickup_datetime │ lpep_dropoff_datetime │\n",
       "│        │ \u001b[90mInt64?\u001b[39m   │ \u001b[90mArrow.Timestamp…\u001b[39m     │ \u001b[90mArrow.Timestamp…\u001b[39m      │\n",
       "├────────┼──────────┼──────────────────────┼───────────────────────┤\n",
       "│ 1      │ 1        │ 2019-12-01T00:09:45  │ 2019-12-01T00:10:59   │\n",
       "│ 2      │ 2        │ 2019-12-01T00:26:05  │ 2019-12-01T00:31:30   │\n",
       "│ 3      │ 2        │ 2019-12-01T00:56:36  │ 2019-12-01T00:59:38   │\n",
       "│ 4      │ 2        │ 2019-12-01T00:26:20  │ 2019-12-01T00:40:19   │\n",
       "│ 5      │ 2        │ 2019-12-01T00:56:36  │ 2019-12-01T00:59:56   │\n",
       "│ 6      │ 1        │ 2019-12-01T00:14:28  │ 2019-12-01T00:19:39   │\n",
       "│ 7      │ 1        │ 2019-12-01T00:45:54  │ 2019-12-01T00:52:46   │\n",
       "│ 8      │ 2        │ 2019-12-01T00:25:35  │ 2019-12-01T01:04:08   │\n",
       "│ 9      │ 1        │ 2019-12-01T00:43:12  │ 2019-12-01T00:56:44   │\n",
       "│ 10     │ 2        │ 2019-12-01T00:56:08  │ 2019-12-01T01:05:11   │\n",
       "⋮\n",
       "│ 450617 │ \u001b[90mmissing\u001b[39m  │ 2019-12-31T23:59:00  │ 2020-01-01T00:31:00   │\n",
       "│ 450618 │ \u001b[90mmissing\u001b[39m  │ 2019-12-31T23:14:00  │ 2019-12-31T23:45:00   │\n",
       "│ 450619 │ \u001b[90mmissing\u001b[39m  │ 2019-12-31T23:04:00  │ 2019-12-31T23:38:00   │\n",
       "│ 450620 │ \u001b[90mmissing\u001b[39m  │ 2019-12-31T23:11:00  │ 2019-12-31T23:27:00   │\n",
       "│ 450621 │ \u001b[90mmissing\u001b[39m  │ 2019-12-31T23:34:00  │ 2019-12-31T23:59:00   │\n",
       "│ 450622 │ \u001b[90mmissing\u001b[39m  │ 2019-12-31T23:46:00  │ 2020-01-01T00:03:00   │\n",
       "│ 450623 │ \u001b[90mmissing\u001b[39m  │ 2019-12-31T23:26:00  │ 2019-12-31T23:54:00   │\n",
       "│ 450624 │ \u001b[90mmissing\u001b[39m  │ 2019-12-31T23:02:00  │ 2019-12-31T23:16:00   │\n",
       "│ 450625 │ \u001b[90mmissing\u001b[39m  │ 2019-12-31T23:24:00  │ 2019-12-31T23:40:00   │\n",
       "│ 450626 │ \u001b[90mmissing\u001b[39m  │ 2019-12-31T23:16:00  │ 2019-12-31T23:37:00   │\n",
       "│ 450627 │ \u001b[90mmissing\u001b[39m  │ 2019-12-31T23:52:00  │ 2020-01-01T00:05:00   │"
      ]
     },
     "execution_count": 40,
     "metadata": {},
     "output_type": "execute_result"
    }
   ],
   "source": [
    "@btime dfx = Feather.read(outfile)"
   ]
  },
  {
   "cell_type": "code",
   "execution_count": 41,
   "metadata": {},
   "outputs": [
    {
     "data": {
      "text/plain": [
       "Process(`\u001b[4mgzip\u001b[24m \u001b[4m/home/jovyan/julia_tutorial/notebooks/test_out.feather\u001b[24m`, ProcessExited(0))"
      ]
     },
     "execution_count": 41,
     "metadata": {},
     "output_type": "execute_result"
    }
   ],
   "source": [
    "run(`gzip $(pwd())/$outfile`)"
   ]
  },
  {
   "cell_type": "code",
   "execution_count": 42,
   "metadata": {},
   "outputs": [
    {
     "data": {
      "text/plain": [
       "7.700153350830078"
      ]
     },
     "execution_count": 42,
     "metadata": {},
     "output_type": "execute_result"
    }
   ],
   "source": [
    "filesize(\"$outfile.gz\")/1024^2 # in MB "
   ]
  },
  {
   "cell_type": "code",
   "execution_count": 43,
   "metadata": {},
   "outputs": [],
   "source": [
    "rm(\"$outfile.gz\")"
   ]
  },
  {
   "cell_type": "markdown",
   "metadata": {},
   "source": [
    "## Comparison\n",
    "\n",
    "method | read-time (s) | write-time (s) | size (MB) | size-gzipped (MB)\n",
    "-------|---------------|----------------|-----------|------------------\n",
    "CSV    | 0.3           | 6              |  43       | 7.6\n",
    "SQLite | 36            | 26             | 196       | 14.9\n",
    "JDF    | 0.08          | 0.13           | 15.12     | 10\n",
    "Feather| 0.002         | 0.79           | 64        | 7.7"
   ]
  },
  {
   "cell_type": "code",
   "execution_count": null,
   "metadata": {},
   "outputs": [],
   "source": []
  }
 ],
 "metadata": {
  "kernelspec": {
   "display_name": "Julia 1.4.1",
   "language": "julia",
   "name": "julia-1.4"
  },
  "language_info": {
   "file_extension": ".jl",
   "mimetype": "application/julia",
   "name": "julia",
   "version": "1.4.1"
  }
 },
 "nbformat": 4,
 "nbformat_minor": 4
}
