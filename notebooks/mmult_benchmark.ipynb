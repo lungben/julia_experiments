{
 "cells": [
  {
   "cell_type": "code",
   "execution_count": 1,
   "metadata": {},
   "outputs": [],
   "source": [
    "using BenchmarkTools"
   ]
  },
  {
   "cell_type": "code",
   "execution_count": 2,
   "metadata": {},
   "outputs": [],
   "source": [
    "using CUDA"
   ]
  },
  {
   "cell_type": "code",
   "execution_count": 3,
   "metadata": {},
   "outputs": [],
   "source": [
    "using LoopVectorization"
   ]
  },
  {
   "cell_type": "code",
   "execution_count": 4,
   "metadata": {},
   "outputs": [
    {
     "data": {
      "text/plain": [
       "8"
      ]
     },
     "execution_count": 4,
     "metadata": {},
     "output_type": "execute_result"
    }
   ],
   "source": [
    "Threads.nthreads()"
   ]
  },
  {
   "cell_type": "code",
   "execution_count": 5,
   "metadata": {},
   "outputs": [
    {
     "data": {
      "text/plain": [
       "4096"
      ]
     },
     "execution_count": 5,
     "metadata": {},
     "output_type": "execute_result"
    }
   ],
   "source": [
    "N = 4096"
   ]
  },
  {
   "cell_type": "code",
   "execution_count": 6,
   "metadata": {},
   "outputs": [],
   "source": [
    "A = rand(Float32, N,N);\n",
    "B = rand(Float32, N,N);"
   ]
  },
  {
   "cell_type": "code",
   "execution_count": 7,
   "metadata": {},
   "outputs": [],
   "source": [
    "A64 = rand(N,N);\n",
    "B64 = rand(N,N);"
   ]
  },
  {
   "cell_type": "code",
   "execution_count": 8,
   "metadata": {},
   "outputs": [],
   "source": [
    "cA = CuArray(A);\n",
    "cB = CuArray(B);"
   ]
  },
  {
   "cell_type": "code",
   "execution_count": 9,
   "metadata": {},
   "outputs": [
    {
     "data": {
      "text/plain": [
       "mymult (generic function with 1 method)"
      ]
     },
     "execution_count": 9,
     "metadata": {},
     "output_type": "execute_result"
    }
   ],
   "source": [
    "function mymult(A:: AbstractArray{T,2}, B:: AbstractArray{T,2}) where {T}\n",
    "    size(A, 2) == size(B, 1) || error(\"inner dims must match\")\n",
    "    C = zeros(T, size(A,1), size(B,2))\n",
    "    for n=1:size(B, 2), k=1:size(A,2), m=1:size(A, 1)\n",
    "        @inbounds C[m,n] += A[m,k]*B[k,n]\n",
    "    end\n",
    "    C\n",
    "end"
   ]
  },
  {
   "cell_type": "code",
   "execution_count": 10,
   "metadata": {},
   "outputs": [
    {
     "data": {
      "text/plain": [
       "mymult (generic function with 1 method)"
      ]
     },
     "execution_count": 10,
     "metadata": {},
     "output_type": "execute_result"
    }
   ],
   "source": [
    "function mymult(A:: AbstractArray{T,2}, B:: AbstractArray{T,2}) where {T}\n",
    "    size(A, 2) == size(B, 1) || error(\"inner dims must match\")\n",
    "    C = zeros(T, size(A,1), size(B,2))\n",
    "    for n=1:size(B, 2), k=1:size(A,2), m=1:size(A, 1)\n",
    "        @inbounds C[m,n] += A[m,k]*B[k,n]\n",
    "    end\n",
    "    C\n",
    "end"
   ]
  },
  {
   "cell_type": "code",
   "execution_count": 11,
   "metadata": {},
   "outputs": [
    {
     "data": {
      "text/plain": [
       "mymult_avx (generic function with 1 method)"
      ]
     },
     "execution_count": 11,
     "metadata": {},
     "output_type": "execute_result"
    }
   ],
   "source": [
    "function mymult_avx(A:: AbstractArray{T,2}, B:: AbstractArray{T,2}) where {T}\n",
    "    size(A, 2) == size(B, 1) || error(\"inner dims must match\")\n",
    "    C = zeros(T, size(A,1), size(B,2))\n",
    "    @avx for n=1:size(B, 2), k=1:size(A,2), m=1:size(A, 1)\n",
    "        C[m,n] += A[m,k]*B[k,n]\n",
    "    end\n",
    "    C\n",
    "end"
   ]
  },
  {
   "cell_type": "code",
   "execution_count": 12,
   "metadata": {},
   "outputs": [
    {
     "data": {
      "text/plain": [
       "mymult_treaded (generic function with 1 method)"
      ]
     },
     "execution_count": 12,
     "metadata": {},
     "output_type": "execute_result"
    }
   ],
   "source": [
    "function mymult_treaded(A:: AbstractArray{T,2}, B:: AbstractArray{T,2}) where {T}\n",
    "    size(A, 2) == size(B, 1) || error(\"inner dims must match\")\n",
    "    C = zeros(T, size(A,1), size(B,2))\n",
    "    Threads.@threads for n=1:size(B, 2)\n",
    "        for k=1:size(A,2), m=1:size(A, 1)\n",
    "            @inbounds C[m,n] += A[m,k]*B[k,n]\n",
    "        end\n",
    "    end\n",
    "    C\n",
    "end"
   ]
  },
  {
   "cell_type": "code",
   "execution_count": 13,
   "metadata": {},
   "outputs": [
    {
     "name": "stdout",
     "output_type": "stream",
     "text": [
      "  683.623 ms (2 allocations: 64.00 MiB)\n"
     ]
    }
   ],
   "source": [
    "@btime $A*$B; # OpenBlas"
   ]
  },
  {
   "cell_type": "code",
   "execution_count": 14,
   "metadata": {},
   "outputs": [
    {
     "name": "stdout",
     "output_type": "stream",
     "text": [
      "  19.513 s (2 allocations: 64.00 MiB)\n"
     ]
    }
   ],
   "source": [
    "@btime mymult($A,$B); # naive Julia implementation"
   ]
  },
  {
   "cell_type": "code",
   "execution_count": 15,
   "metadata": {},
   "outputs": [
    {
     "name": "stdout",
     "output_type": "stream",
     "text": [
      "  10.199 s (2 allocations: 64.00 MiB)\n"
     ]
    }
   ],
   "source": [
    "@btime mymult_avx($A,$B); # speed-up using LoopVectorization"
   ]
  },
  {
   "cell_type": "code",
   "execution_count": 16,
   "metadata": {},
   "outputs": [
    {
     "name": "stdout",
     "output_type": "stream",
     "text": [
      "  9.845 s (57 allocations: 64.01 MiB)\n"
     ]
    }
   ],
   "source": [
    "@btime mymult_treaded($A,$B); # naive Julia multi-threaded"
   ]
  },
  {
   "cell_type": "code",
   "execution_count": 17,
   "metadata": {},
   "outputs": [
    {
     "name": "stdout",
     "output_type": "stream",
     "text": [
      "  2.450 μs (5 allocations: 288 bytes)\n"
     ]
    }
   ],
   "source": [
    "@btime $cA*$cB; # GPU"
   ]
  },
  {
   "cell_type": "code",
   "execution_count": 18,
   "metadata": {},
   "outputs": [
    {
     "name": "stdout",
     "output_type": "stream",
     "text": [
      "  2.147 s (2 allocations: 128.00 MiB)\n"
     ]
    }
   ],
   "source": [
    "@btime $A64*$B64; # OpenBlas"
   ]
  },
  {
   "cell_type": "code",
   "execution_count": null,
   "metadata": {},
   "outputs": [],
   "source": []
  }
 ],
 "metadata": {
  "kernelspec": {
   "display_name": "Julia 1.4.1",
   "language": "julia",
   "name": "julia-1.4"
  },
  "language_info": {
   "file_extension": ".jl",
   "mimetype": "application/julia",
   "name": "julia",
   "version": "1.4.1"
  }
 },
 "nbformat": 4,
 "nbformat_minor": 4
}
